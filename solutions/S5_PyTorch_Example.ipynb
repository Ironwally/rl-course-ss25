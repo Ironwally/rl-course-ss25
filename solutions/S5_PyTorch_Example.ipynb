{
 "cells": [
  {
   "cell_type": "markdown",
   "metadata": {
    "id": "TOBUyiZq3d2u"
   },
   "source": [
    "# Minimal PyTorch Example\n",
    "\n"
   ]
  },
  {
   "cell_type": "markdown",
   "metadata": {
    "id": "YvwPL6u83aNe"
   },
   "source": [
    "This notebooks shows a very minimal example on how to use PyTorch for training a neural network on the Iris data set."
   ]
  },
  {
   "cell_type": "markdown",
   "metadata": {
    "id": "LhdvnPe4Q-pO"
   },
   "source": [
    "### 0. Preamble"
   ]
  },
  {
   "cell_type": "code",
   "execution_count": 57,
   "metadata": {
    "id": "K8-YOrlu3w8z"
   },
   "outputs": [
    {
     "data": {
      "text/plain": [
       "<torch._C.Generator at 0x121b4d9d0>"
      ]
     },
     "execution_count": 57,
     "metadata": {},
     "output_type": "execute_result"
    }
   ],
   "source": [
    "import torch\n",
    "import torch.nn.functional as F\n",
    "import torch.nn as nn\n",
    "\n",
    "torch.manual_seed(1)"
   ]
  },
  {
   "cell_type": "markdown",
   "metadata": {
    "id": "Tf59x5HX3zMO"
   },
   "source": [
    "The following lines checks for GPU availability on the machine and sets the GPU as processing device (if available).\n",
    "If you are on Colab you can enable GPU support in the menu via  \"Runtime > Change runtime type\" and select \"GPU\" as hardware accelerator."
   ]
  },
  {
   "cell_type": "code",
   "execution_count": 58,
   "metadata": {
    "colab": {
     "base_uri": "https://localhost:8080/"
    },
    "id": "S3DgoJj735Gr",
    "outputId": "237e74c2-d010-43d4-d5c2-12e699e8737b"
   },
   "outputs": [
    {
     "name": "stdout",
     "output_type": "stream",
     "text": [
      "No GPU available\n"
     ]
    },
    {
     "data": {
      "text/plain": [
       "device(type='cpu')"
      ]
     },
     "execution_count": 58,
     "metadata": {},
     "output_type": "execute_result"
    }
   ],
   "source": [
    "if(torch.cuda.is_available()):\n",
    "    processing_chip = \"cuda:0\"\n",
    "    print(f\"{torch.cuda.get_device_name(0)} available\")\n",
    "else:\n",
    "    processing_chip = \"cpu\"\n",
    "    print(\"No GPU available\")\n",
    "\n",
    "device = torch.device(processing_chip)\n",
    "device"
   ]
  },
  {
   "cell_type": "markdown",
   "metadata": {
    "id": "Y8EgmXccAr9b"
   },
   "source": [
    "### 1. Data Preperation"
   ]
  },
  {
   "cell_type": "markdown",
   "metadata": {
    "id": "lQbkjF8hstMZ"
   },
   "source": [
    "For this small example we use the [Iris flower data set](https://en.wikipedia.org/wiki/Iris_flower_data_set). The data set consists of 50 samples from each of three species of Iris (Iris setosa, Iris virginica and Iris versicolor). Four features were measured from each sample: the length and the width of the sepals and petals, in centimeters. Based on these four features, we want to train a model that can predict the species.\n",
    "\n",
    "In the first step we load the data into a Pandas."
   ]
  },
  {
   "cell_type": "code",
   "execution_count": 59,
   "metadata": {
    "colab": {
     "base_uri": "https://localhost:8080/",
     "height": 198
    },
    "id": "DZoYUZfQ_TU8",
    "outputId": "99015012-d895-4d45-fdd0-477edcf22019"
   },
   "outputs": [
    {
     "data": {
      "text/html": [
       "<div>\n",
       "<style scoped>\n",
       "    .dataframe tbody tr th:only-of-type {\n",
       "        vertical-align: middle;\n",
       "    }\n",
       "\n",
       "    .dataframe tbody tr th {\n",
       "        vertical-align: top;\n",
       "    }\n",
       "\n",
       "    .dataframe thead th {\n",
       "        text-align: right;\n",
       "    }\n",
       "</style>\n",
       "<table border=\"1\" class=\"dataframe\">\n",
       "  <thead>\n",
       "    <tr style=\"text-align: right;\">\n",
       "      <th></th>\n",
       "      <th>sepal_length</th>\n",
       "      <th>sepal_width</th>\n",
       "      <th>petal_length</th>\n",
       "      <th>petal_width</th>\n",
       "      <th>species</th>\n",
       "    </tr>\n",
       "  </thead>\n",
       "  <tbody>\n",
       "    <tr>\n",
       "      <th>0</th>\n",
       "      <td>5.1</td>\n",
       "      <td>3.5</td>\n",
       "      <td>1.4</td>\n",
       "      <td>0.2</td>\n",
       "      <td>Iris-setosa</td>\n",
       "    </tr>\n",
       "    <tr>\n",
       "      <th>1</th>\n",
       "      <td>4.9</td>\n",
       "      <td>3.0</td>\n",
       "      <td>1.4</td>\n",
       "      <td>0.2</td>\n",
       "      <td>Iris-setosa</td>\n",
       "    </tr>\n",
       "    <tr>\n",
       "      <th>2</th>\n",
       "      <td>4.7</td>\n",
       "      <td>3.2</td>\n",
       "      <td>1.3</td>\n",
       "      <td>0.2</td>\n",
       "      <td>Iris-setosa</td>\n",
       "    </tr>\n",
       "    <tr>\n",
       "      <th>3</th>\n",
       "      <td>4.6</td>\n",
       "      <td>3.1</td>\n",
       "      <td>1.5</td>\n",
       "      <td>0.2</td>\n",
       "      <td>Iris-setosa</td>\n",
       "    </tr>\n",
       "    <tr>\n",
       "      <th>4</th>\n",
       "      <td>5.0</td>\n",
       "      <td>3.6</td>\n",
       "      <td>1.4</td>\n",
       "      <td>0.2</td>\n",
       "      <td>Iris-setosa</td>\n",
       "    </tr>\n",
       "  </tbody>\n",
       "</table>\n",
       "</div>"
      ],
      "text/plain": [
       "   sepal_length  sepal_width  petal_length  petal_width      species\n",
       "0           5.1          3.5           1.4          0.2  Iris-setosa\n",
       "1           4.9          3.0           1.4          0.2  Iris-setosa\n",
       "2           4.7          3.2           1.3          0.2  Iris-setosa\n",
       "3           4.6          3.1           1.5          0.2  Iris-setosa\n",
       "4           5.0          3.6           1.4          0.2  Iris-setosa"
      ]
     },
     "execution_count": 59,
     "metadata": {},
     "output_type": "execute_result"
    }
   ],
   "source": [
    "import pandas as pd\n",
    "\n",
    "url = '../data/iris.csv'\n",
    "dataset = pd.read_csv(url)\n",
    "dataset.head(5)"
   ]
  },
  {
   "cell_type": "markdown",
   "metadata": {
    "id": "3wk_OnO451DX"
   },
   "source": [
    "To be able to train a model, we first need to transform the *species* column into a numeric:"
   ]
  },
  {
   "cell_type": "code",
   "execution_count": 60,
   "metadata": {
    "colab": {
     "base_uri": "https://localhost:8080/",
     "height": 198
    },
    "id": "fQqdZZ16AHBe",
    "outputId": "155138d4-b609-47b1-d9fa-12e59ebbf101"
   },
   "outputs": [
    {
     "data": {
      "text/html": [
       "<div>\n",
       "<style scoped>\n",
       "    .dataframe tbody tr th:only-of-type {\n",
       "        vertical-align: middle;\n",
       "    }\n",
       "\n",
       "    .dataframe tbody tr th {\n",
       "        vertical-align: top;\n",
       "    }\n",
       "\n",
       "    .dataframe thead th {\n",
       "        text-align: right;\n",
       "    }\n",
       "</style>\n",
       "<table border=\"1\" class=\"dataframe\">\n",
       "  <thead>\n",
       "    <tr style=\"text-align: right;\">\n",
       "      <th></th>\n",
       "      <th>sepal_length</th>\n",
       "      <th>sepal_width</th>\n",
       "      <th>petal_length</th>\n",
       "      <th>petal_width</th>\n",
       "      <th>species</th>\n",
       "    </tr>\n",
       "  </thead>\n",
       "  <tbody>\n",
       "    <tr>\n",
       "      <th>0</th>\n",
       "      <td>5.1</td>\n",
       "      <td>3.5</td>\n",
       "      <td>1.4</td>\n",
       "      <td>0.2</td>\n",
       "      <td>0</td>\n",
       "    </tr>\n",
       "    <tr>\n",
       "      <th>1</th>\n",
       "      <td>4.9</td>\n",
       "      <td>3.0</td>\n",
       "      <td>1.4</td>\n",
       "      <td>0.2</td>\n",
       "      <td>0</td>\n",
       "    </tr>\n",
       "    <tr>\n",
       "      <th>2</th>\n",
       "      <td>4.7</td>\n",
       "      <td>3.2</td>\n",
       "      <td>1.3</td>\n",
       "      <td>0.2</td>\n",
       "      <td>0</td>\n",
       "    </tr>\n",
       "    <tr>\n",
       "      <th>3</th>\n",
       "      <td>4.6</td>\n",
       "      <td>3.1</td>\n",
       "      <td>1.5</td>\n",
       "      <td>0.2</td>\n",
       "      <td>0</td>\n",
       "    </tr>\n",
       "    <tr>\n",
       "      <th>4</th>\n",
       "      <td>5.0</td>\n",
       "      <td>3.6</td>\n",
       "      <td>1.4</td>\n",
       "      <td>0.2</td>\n",
       "      <td>0</td>\n",
       "    </tr>\n",
       "  </tbody>\n",
       "</table>\n",
       "</div>"
      ],
      "text/plain": [
       "   sepal_length  sepal_width  petal_length  petal_width species\n",
       "0           5.1          3.5           1.4          0.2       0\n",
       "1           4.9          3.0           1.4          0.2       0\n",
       "2           4.7          3.2           1.3          0.2       0\n",
       "3           4.6          3.1           1.5          0.2       0\n",
       "4           5.0          3.6           1.4          0.2       0"
      ]
     },
     "execution_count": 60,
     "metadata": {},
     "output_type": "execute_result"
    }
   ],
   "source": [
    "dataset.loc[dataset.species=='Iris-setosa', 'species'] = 0\n",
    "dataset.loc[dataset.species=='Iris-versicolor', 'species'] = 1\n",
    "dataset.loc[dataset.species=='Iris-virginica', 'species'] = 2\n",
    "dataset.head()"
   ]
  },
  {
   "cell_type": "markdown",
   "metadata": {
    "id": "hYLgEfDUPu2_"
   },
   "source": [
    "Next, we specify which columns we want to use as features and which as label:"
   ]
  },
  {
   "cell_type": "code",
   "execution_count": 61,
   "metadata": {
    "id": "-uHB8hU0A4sI"
   },
   "outputs": [],
   "source": [
    "X = dataset[dataset.columns[0:4]].values\n",
    "y = dataset.species.values.astype(int)"
   ]
  },
  {
   "cell_type": "markdown",
   "metadata": {
    "id": "pNUlUKPYtz8C"
   },
   "source": [
    "We then split our data into training and test data."
   ]
  },
  {
   "cell_type": "code",
   "execution_count": 62,
   "metadata": {
    "colab": {
     "base_uri": "https://localhost:8080/"
    },
    "id": "fQvkW7kct2Ry",
    "outputId": "a40538f1-f053-41e4-a11a-f2564b4cd230"
   },
   "outputs": [
    {
     "name": "stdout",
     "output_type": "stream",
     "text": [
      "(120, 4) (30, 4)\n"
     ]
    }
   ],
   "source": [
    "from sklearn.model_selection import train_test_split\n",
    "\n",
    "train_X, test_X, train_y, test_y = train_test_split(X, y, test_size=0.2)\n",
    "print(train_X.shape, test_X.shape)"
   ]
  },
  {
   "cell_type": "markdown",
   "metadata": {
    "id": "56Ep6AWT5-Wy"
   },
   "source": [
    "To be able to use the data in PyTorch, we need to convert them into PyTorch tensors. Such a tensor can be thought of an efficient way to represent lists and matrices (similar to Numpy), with the additional benefit that they can be moved to the GPU (the `.to(device)` part in the code below) and that they support automatic backpropagation (more on this later):"
   ]
  },
  {
   "cell_type": "code",
   "execution_count": 63,
   "metadata": {
    "id": "-OI44o3i-grB"
   },
   "outputs": [],
   "source": [
    "train_x = torch.Tensor(train_X).float().to(device)\n",
    "test_x = torch.Tensor(test_X).float().to(device)\n",
    "train_y =torch.Tensor(train_y).long().to(device)\n",
    "test_y = torch.Tensor(test_y).long().to(device)"
   ]
  },
  {
   "cell_type": "markdown",
   "metadata": {
    "id": "5wcTXnyu7NWK"
   },
   "source": [
    "### 2. Model definition\n",
    "We define now the strucutre of our neural network. For this we create a class that is a subclass from PyTorch's `nn.Module`.\n",
    "By convention we put in the `__init__` method the layers we want to use in the network and in the `forward` method how data flows through this network.\n",
    "\n",
    "Our network has 4 input features, 7 hidden layer nodes and 3 output neurons. The hidden layer uses a Relu activation function. Note that the output layer does not have a softmax activation (unlike we have seen it in the lecture). It rather gives out a raw score for each class (more on this later). \n"
   ]
  },
  {
   "cell_type": "code",
   "execution_count": 64,
   "metadata": {
    "id": "_W47oZ534E-1"
   },
   "outputs": [],
   "source": [
    "class Net(nn.Module):\n",
    "    def __init__(self):\n",
    "        super(Net, self).__init__()\n",
    "        self.hidden1 = nn.Linear(4, 5)  \n",
    "        self.hidden2 = nn.Linear(5, 7)\n",
    "        self.output = nn.Linear(7, 3)\n",
    "\n",
    "    def forward(self, x):\n",
    "        z1 = F.relu(self.hidden1(x))\n",
    "        z2 = F.relu(self.hidden2(z1))\n",
    "        z3 = self.output(z2)  # no softmax. see documentation of CrossEntropyLoss() method\n",
    "        return z3"
   ]
  },
  {
   "cell_type": "markdown",
   "metadata": {
    "id": "gJyy5JG_84vs"
   },
   "source": [
    "### 3. Model Training\n",
    "We can now start training our network. We run several epochs in which we first predict on the training data with our network and than backpropagate the loss. For this we use PyTorch's build-in optimizer that runs gradient descent on the weights of the network. Hence, in every episode we reduce the loss on the training data and improve our network.\n",
    "\n",
    "As loss function we use cross entropy, which consumes the raw scores from the prediction and internally applies a softmax (that is why we do not need the softmax as last layer in the network).\n",
    "\n",
    "Note: All training data is passed at once to the neural netm this is done in `net(train_x)`. In this method, PyTorch will predict on all data points in parallel, which is technically an implementation of `batch gradient descent`."
   ]
  },
  {
   "cell_type": "code",
   "execution_count": 65,
   "metadata": {},
   "outputs": [],
   "source": [
    "# create network, move it to device (either CPU or GPU)\n",
    "net = Net().to(device)"
   ]
  },
  {
   "cell_type": "code",
   "execution_count": 66,
   "metadata": {
    "colab": {
     "base_uri": "https://localhost:8080/"
    },
    "id": "7RQHZvvyAFzV",
    "outputId": "2b547d37-3b71-4b1f-8e6a-50e69d0d2a7d"
   },
   "outputs": [
    {
     "name": "stdout",
     "output_type": "stream",
     "text": [
      "\n",
      "Starting training \n",
      "Loss in epoch 0 is 1.2260148525238037\n",
      "Loss in epoch 10 is 1.0804448127746582\n",
      "Loss in epoch 20 is 1.0477639436721802\n",
      "Loss in epoch 30 is 0.9942908883094788\n",
      "Loss in epoch 40 is 0.9016770720481873\n",
      "Loss in epoch 50 is 0.8015329837799072\n",
      "Loss in epoch 60 is 0.7196688055992126\n",
      "Loss in epoch 70 is 0.6542423963546753\n",
      "Loss in epoch 80 is 0.6013051867485046\n",
      "Loss in epoch 90 is 0.5568895936012268\n",
      "Loss in epoch 100 is 0.5188678503036499\n",
      "Loss in epoch 110 is 0.4851902425289154\n",
      "Loss in epoch 120 is 0.4539152681827545\n",
      "Loss in epoch 130 is 0.42345958948135376\n",
      "Loss in epoch 140 is 0.3928512632846832\n",
      "Loss in epoch 150 is 0.3780805766582489\n",
      "Loss in epoch 160 is 0.4209180176258087\n",
      "Loss in epoch 170 is 0.3991149365901947\n",
      "Loss in epoch 180 is 0.4130246043205261\n",
      "Loss in epoch 190 is 0.39391204714775085\n",
      "Loss in epoch 200 is 0.38856831192970276\n",
      "Loss in epoch 210 is 0.3848973512649536\n",
      "Loss in epoch 220 is 0.3764684796333313\n",
      "Loss in epoch 230 is 0.37051016092300415\n",
      "Loss in epoch 240 is 0.36743196845054626\n",
      "Loss in epoch 250 is 0.36195382475852966\n",
      "Loss in epoch 260 is 0.35569673776626587\n",
      "Loss in epoch 270 is 0.34969350695610046\n",
      "Loss in epoch 280 is 0.3449624478816986\n",
      "Loss in epoch 290 is 0.33924436569213867\n",
      "Loss in epoch 300 is 0.3320377767086029\n",
      "Loss in epoch 310 is 0.32437360286712646\n",
      "Loss in epoch 320 is 0.32057419419288635\n",
      "Loss in epoch 330 is 0.31512972712516785\n",
      "Loss in epoch 340 is 0.31008532643318176\n",
      "Loss in epoch 350 is 0.3025328814983368\n",
      "Loss in epoch 360 is 0.29752272367477417\n",
      "Loss in epoch 370 is 0.29190346598625183\n",
      "Loss in epoch 380 is 0.28564736247062683\n",
      "Loss in epoch 390 is 0.2629554569721222\n",
      "Loss in epoch 400 is 0.24487367272377014\n",
      "Loss in epoch 410 is 0.24716083705425262\n",
      "Loss in epoch 420 is 0.2553284168243408\n",
      "Loss in epoch 430 is 0.22903476655483246\n",
      "Loss in epoch 440 is 0.18647053837776184\n",
      "Loss in epoch 450 is 0.1835051327943802\n",
      "Loss in epoch 460 is 0.29035434126853943\n",
      "Loss in epoch 470 is 0.14820615947246552\n",
      "Loss in epoch 480 is 0.16971607506275177\n",
      "Loss in epoch 490 is 0.20455045998096466\n",
      "Loss in epoch 500 is 0.14860893785953522\n",
      "Loss in epoch 510 is 0.13825909793376923\n",
      "Loss in epoch 520 is 0.2152044177055359\n",
      "Loss in epoch 530 is 0.13786356151103973\n",
      "Loss in epoch 540 is 0.12302032113075256\n",
      "Loss in epoch 550 is 0.1285904198884964\n",
      "Loss in epoch 560 is 0.20348221063613892\n",
      "Loss in epoch 570 is 0.10981282591819763\n",
      "Loss in epoch 580 is 0.10337655991315842\n",
      "Loss in epoch 590 is 0.10377956181764603\n",
      "Loss in epoch 600 is 0.11938174068927765\n",
      "Loss in epoch 610 is 0.18440239131450653\n",
      "Loss in epoch 620 is 0.09558034688234329\n",
      "Loss in epoch 630 is 0.09979208558797836\n",
      "Loss in epoch 640 is 0.09943440556526184\n",
      "Loss in epoch 650 is 0.09707727283239365\n",
      "Loss in epoch 660 is 0.10436182469129562\n",
      "Loss in epoch 670 is 0.1120443120598793\n",
      "Loss in epoch 680 is 0.1140582486987114\n",
      "Loss in epoch 690 is 0.09764870256185532\n",
      "Loss in epoch 700 is 0.08733906596899033\n",
      "Loss in epoch 710 is 0.09133527427911758\n",
      "Loss in epoch 720 is 0.09315036237239838\n",
      "Loss in epoch 730 is 0.09264685213565826\n",
      "Loss in epoch 740 is 0.08974118530750275\n",
      "Loss in epoch 750 is 0.08066990971565247\n",
      "Loss in epoch 760 is 0.08991546928882599\n",
      "Loss in epoch 770 is 0.08600067347288132\n",
      "Loss in epoch 780 is 0.08222587406635284\n",
      "Loss in epoch 790 is 0.09353332221508026\n",
      "Loss in epoch 800 is 0.13854999840259552\n",
      "Loss in epoch 810 is 0.09496622532606125\n",
      "Loss in epoch 820 is 0.07510941475629807\n",
      "Loss in epoch 830 is 0.08595139533281326\n",
      "Loss in epoch 840 is 0.07882899791002274\n",
      "Loss in epoch 850 is 0.07549251616001129\n",
      "Loss in epoch 860 is 0.09195711463689804\n",
      "Loss in epoch 870 is 0.10117519646883011\n",
      "Loss in epoch 880 is 0.09308391064405441\n",
      "Loss in epoch 890 is 0.07421258091926575\n",
      "Loss in epoch 900 is 0.07700633257627487\n",
      "Loss in epoch 910 is 0.07245595753192902\n",
      "Loss in epoch 920 is 0.07604755461215973\n",
      "Loss in epoch 930 is 0.07646501809358597\n",
      "Loss in epoch 940 is 0.0775672122836113\n",
      "Loss in epoch 950 is 0.07314490526914597\n",
      "Loss in epoch 960 is 0.0828472450375557\n",
      "Loss in epoch 970 is 0.08721234649419785\n",
      "Loss in epoch 980 is 0.08936668932437897\n",
      "Loss in epoch 990 is 0.0937492623925209\n",
      "Done training \n"
     ]
    }
   ],
   "source": [
    "# define the parameters for training\n",
    "no_epochs = 1000\n",
    "learning_rate = 0.09\n",
    "loss_func = nn.CrossEntropyLoss()  # applies softmax() internally\n",
    "optimizer = torch.optim.SGD(net.parameters(), lr=learning_rate)\n",
    "\n",
    "print(\"\\nStarting training \")\n",
    "\n",
    "train_losses = []\n",
    "for epoch in range(0, no_epochs):\n",
    "\n",
    "    optimizer.zero_grad()  # set gradients to zero \n",
    "    predictions = net(train_x)  # predict on the training data, this calls internally net.forward() \n",
    "\n",
    "    loss = loss_func(predictions, train_y)  # compute loss between prediction and true labels\n",
    "    loss.backward() # calculate the gradients for every weight\n",
    "    optimizer.step() # do one step of gradient descent\n",
    "\n",
    "    train_losses.append(loss.item())\n",
    "\n",
    "    if epoch % 10 == 0:\n",
    "        print(f\"Loss in epoch {epoch} is {loss.item()}\")\n",
    "\n",
    "print(\"Done training \")"
   ]
  },
  {
   "cell_type": "code",
   "execution_count": 67,
   "metadata": {
    "colab": {
     "base_uri": "https://localhost:8080/",
     "height": 296
    },
    "id": "fMPxG1i873W7",
    "outputId": "5d551446-3235-48e3-c45b-f0eececf763a"
   },
   "outputs": [
    {
     "data": {
      "text/plain": [
       "Text(0, 0.5, 'loss')"
      ]
     },
     "execution_count": 67,
     "metadata": {},
     "output_type": "execute_result"
    },
    {
     "data": {
      "image/png": "[encoded data removed]",
      "text/plain": [
       "<Figure size 640x480 with 1 Axes>"
      ]
     },
     "metadata": {},
     "output_type": "display_data"
    }
   ],
   "source": [
    "import matplotlib.pyplot as plt\n",
    "\n",
    "fig = plt.figure()\n",
    "plt.plot(range(0, no_epochs), train_losses, color='blue')\n",
    "plt.legend(['Train Loss'], loc='upper right')\n",
    "plt.xlabel('number of epochs')\n",
    "plt.ylabel('loss')"
   ]
  },
  {
   "cell_type": "markdown",
   "metadata": {
    "id": "cN8btFSP3yU2"
   },
   "source": [
    "### 4. Model Evaluation\n",
    "Finally, we check the model accuracy on the test data. For this we predict on the test data, identify the class with the highest score and compare it to the true label."
   ]
  },
  {
   "cell_type": "code",
   "execution_count": 68,
   "metadata": {
    "colab": {
     "base_uri": "https://localhost:8080/"
    },
    "id": "wsmVfo49Kytp",
    "outputId": "0659c70b-22cd-4ea2-b81f-221db140fdf2"
   },
   "outputs": [
    {
     "name": "stdout",
     "output_type": "stream",
     "text": [
      "Accuarcy is 93.33333333333333%\n"
     ]
    }
   ],
   "source": [
    "predictions = net(test_x)\n",
    "predicted = torch.argmax(predictions.data, 1) # get the class with highest score\n",
    "correct = (predicted == test_y).sum().item() # compare predicted class with real class\n",
    "print(f\"Accuarcy is {100. * correct / len(test_x)}%\")"
   ]
  },
  {
   "cell_type": "markdown",
   "metadata": {},
   "source": [
    "### 5. Test Data Point"
   ]
  },
  {
   "cell_type": "code",
   "execution_count": 69,
   "metadata": {},
   "outputs": [
    {
     "data": {
      "text/plain": [
       "tensor([[ 5.9300,  0.9656, -5.4028]], grad_fn=<AddmmBackward0>)"
      ]
     },
     "execution_count": 69,
     "metadata": {},
     "output_type": "execute_result"
    }
   ],
   "source": [
    "data = torch.tensor([[4.9, 3.0, 1.4, 0.2]])\n",
    "net(data)"
   ]
  },
  {
   "cell_type": "code",
   "execution_count": 70,
   "metadata": {},
   "outputs": [
    {
     "data": {
      "text/plain": [
       "tensor([[9.9305e-01, 6.9338e-03, 1.1890e-05]], grad_fn=<SoftmaxBackward0>)"
      ]
     },
     "execution_count": 70,
     "metadata": {},
     "output_type": "execute_result"
    }
   ],
   "source": [
    "m=nn.Softmax(dim=1)\n",
    "y_hat=net(data)\n",
    "m(y_hat)"
   ]
  }
 ],
 "metadata": {
  "colab": {
   "authorship_tag": "ABX9TyMS3a9VIGYE8gp8KPG6Vfus",
   "collapsed_sections": [],
   "include_colab_link": true,
   "name": "4_PyTorch_Example.ipynb",
   "provenance": []
  },
  "kernelspec": {
   "display_name": "rl-course-py3.10",
   "language": "python",
   "name": "python3"
  },
  "language_info": {
   "codemirror_mode": {
    "name": "ipython",
    "version": 3
   },
   "file_extension": ".py",
   "mimetype": "text/x-python",
   "name": "python",
   "nbconvert_exporter": "python",
   "pygments_lexer": "ipython3",
   "version": "3.10.16"
  }
 },
 "nbformat": 4,
 "nbformat_minor": 4
}
